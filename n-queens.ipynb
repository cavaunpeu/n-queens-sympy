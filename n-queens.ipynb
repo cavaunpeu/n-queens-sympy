{
 "cells": [
  {
   "cell_type": "markdown",
   "metadata": {},
   "source": [
    "# The N-Queens Problem\n",
    "\n",
    "The following works gives a simple solver for the [N-Queens Problem](https://en.wikipedia.org/wiki/Eight_queens_puzzle). We represent the board as a [constraint satisfaction problem](https://en.wikipedia.org/wiki/Constraint_satisfaction_problem) and find a valid solution using the [backtracking algorithm](https://en.wikipedia.org/wiki/Backtracking). That no two queens can be in the same diagonal, row or column are the constraints to enforce. We represent these constraints in [SymPy](http://www.sympy.org/en/index.html), a light-weight computer algebra system written in Python.\n",
    "\n",
    "The backtracking algorithm retains a partial set of assignments of queens to squares, checking, at each assignment, whether all stipulated constraints hold. If so, it continues in recursive fashion, initiating the next step with the current assignment set. If not, it \"backtracks:\" the most recent assignment is undone, and the algorithm explores other assignments in turn. The backtracking algorithm can be further improved by strategies like forward-checking, intelligent value-ordering, etc. These are not implemented here.\n",
    "\n",
    "Finally, this works builds off of code from [Udacity's Artificial Intelligence Nanodegree](https://github.com/udacity/AIND-Constraint_Satisfaction)."
   ]
  },
  {
   "cell_type": "code",
   "execution_count": 1,
   "metadata": {
    "collapsed": false
   },
   "outputs": [],
   "source": [
    "import matplotlib as mpl\n",
    "import matplotlib.pyplot as plt\n",
    "\n",
    "from util import constraint, displayBoard\n",
    "from sympy import symbols, init_printing, Ne\n",
    "from IPython.display import display\n",
    "init_printing()\n",
    "%matplotlib inline"
   ]
  },
  {
   "cell_type": "markdown",
   "metadata": {},
   "source": [
    "## Declare variables"
   ]
  },
  {
   "cell_type": "code",
   "execution_count": 7,
   "metadata": {
    "collapsed": false
   },
   "outputs": [],
   "source": [
    "first_queen_row = symbols('first\\_queen\\_row')\n",
    "second_queen_row = symbols('second\\_queen\\_row')\n",
    "first_queen_col = symbols('first\\_queen\\_col')\n",
    "second_queen_col = symbols('second\\_queen\\_col')"
   ]
  },
  {
   "cell_type": "markdown",
   "metadata": {},
   "source": [
    "## Declare constraints"
   ]
  },
  {
   "cell_type": "code",
   "execution_count": 8,
   "metadata": {
    "collapsed": false
   },
   "outputs": [],
   "source": [
    "diffRow = constraint('diffRow', Ne(first_queen_row, second_queen_row))\n",
    "diffDiag = constraint('diffDiag', Ne( abs(first_queen_row - second_queen_row), abs(first_queen_col - second_queen_col) ))"
   ]
  },
  {
   "cell_type": "markdown",
   "metadata": {},
   "source": [
    "## Test constraints"
   ]
  },
  {
   "cell_type": "code",
   "execution_count": 9,
   "metadata": {
    "collapsed": false
   },
   "outputs": [
    {
     "name": "stdout",
     "output_type": "stream",
     "text": [
      "Passed diffRow tests.\n"
     ]
    }
   ],
   "source": [
    "assert(len(diffRow.free_symbols) == 2)\n",
    "assert(diffRow.subs({first_queen_row: 0, second_queen_row: 1}) == True)\n",
    "assert(diffRow.subs({first_queen_row: 0, second_queen_row: 0}) == False)\n",
    "assert(diffRow.subs({first_queen_row: 0}) != False)\n",
    "print(\"Passed diffRow tests.\")"
   ]
  },
  {
   "cell_type": "code",
   "execution_count": 10,
   "metadata": {
    "collapsed": false
   },
   "outputs": [
    {
     "name": "stdout",
     "output_type": "stream",
     "text": [
      "Passed diffDiag tests.\n"
     ]
    }
   ],
   "source": [
    "diffDiag_test = diffDiag.subs({first_queen_row: 1, second_queen_row: 3})\n",
    "\n",
    "assert(len(diffDiag_test.free_symbols) == 2)\n",
    "assert(diffDiag_test.subs({first_queen_col: 0, second_queen_col: 2}) == False)\n",
    "assert(diffDiag_test.subs({first_queen_col: 0, second_queen_col: 0}) == True)\n",
    "assert(diffDiag_test.subs({first_queen_col: 0}) != False)\n",
    "print(\"Passed diffDiag tests.\")"
   ]
  },
  {
   "cell_type": "markdown",
   "metadata": {},
   "source": [
    "## N-Queens CSP"
   ]
  },
  {
   "cell_type": "code",
   "execution_count": 11,
   "metadata": {
    "collapsed": false
   },
   "outputs": [],
   "source": [
    "class NQueensCSP:\n",
    "\n",
    "    def __init__(self, N):\n",
    "        _vars = [symbols('queen_{}'.format(i)) for i in range(N)]\n",
    "        _domain = set(range(N))\n",
    "        self.size = N\n",
    "        self.variables = _vars\n",
    "        self.domains = {v: _domain for v in _vars}\n",
    "        self._constraints = {queen: set() for queen in _vars}\n",
    "        for queen in _vars:\n",
    "            other_queens = [other_queen for other_queen in _vars if other_queen != queen]\n",
    "\n",
    "            for other_queen in other_queens:    \n",
    "                self._constraints[queen].update(\n",
    "                    set([\n",
    "                        diffRow.subs({\n",
    "                            first_queen_row: queen, \n",
    "                            second_queen_row: other_queen\n",
    "                        }),\n",
    "                        diffDiag.subs({\n",
    "                            first_queen_row: queen, \n",
    "                            second_queen_row: other_queen,\n",
    "                            first_queen_col: int(queen.name[-1]),\n",
    "                            second_queen_col: int(other_queen.name[-1])\n",
    "                        })\n",
    "                    ])\n",
    "                )\n",
    "    \n",
    "    @property\n",
    "    def constraints(self):\n",
    "        constraints = set()\n",
    "        for _cons in self._constraints.values():\n",
    "            constraints |= _cons\n",
    "        return list(constraints)\n",
    "    \n",
    "    def is_complete(self, assignment):\n",
    "        return set( assignment.values() ) == set( range(self.size) )\n",
    "    \n",
    "    def is_consistent(self, var, value, assignment):\n",
    "        queen = var\n",
    "        for other_queen in assignment:\n",
    "            for constraint in self._constraints[queen]:\n",
    "                if not constraint.subs({queen: value, other_queen: assignment[other_queen]}):\n",
    "                    return False\n",
    "        return True\n",
    "        \n",
    "    def inference(self, var, value):\n",
    "        return {}\n",
    "    \n",
    "    def show(self, assignment):\n",
    "        locations = [(i, assignment[j]) for i, j in enumerate(self.variables)\n",
    "                     if assignment.get(j, None) is not None]\n",
    "        displayBoard(locations, self.size)"
   ]
  },
  {
   "cell_type": "markdown",
   "metadata": {
    "collapsed": true
   },
   "source": [
    "## Backtracking search"
   ]
  },
  {
   "cell_type": "code",
   "execution_count": 12,
   "metadata": {
    "collapsed": false
   },
   "outputs": [],
   "source": [
    "def select(csp, assignment):\n",
    "    for var in csp.variables:\n",
    "        if var not in assignment:\n",
    "            return var\n",
    "    return None\n",
    "\n",
    "def order_values(var, assignment, csp):\n",
    "    return csp.domains[var]\n",
    "\n",
    "def backtracking_search(csp):\n",
    "    return backtrack({}, csp)\n",
    "\n",
    "def backtrack(assignment, csp):\n",
    "    if csp.is_complete(assignment):\n",
    "        return assignment\n",
    "    var = select(csp, assignment)\n",
    "    \n",
    "    for value in order_values(var, assignment, csp):\n",
    "        if csp.is_consistent(var, value, assignment):\n",
    "            assignment[var] = value\n",
    "            inferences = csp.inference(var, value)\n",
    "            if inferences is not None:\n",
    "                assignment.update(inferences)\n",
    "                result = backtrack(assignment, csp)\n",
    "                if result:\n",
    "                    return result\n",
    "        assignment.pop(var, None)\n",
    "    return None"
   ]
  },
  {
   "cell_type": "markdown",
   "metadata": {},
   "source": [
    "## Solve"
   ]
  },
  {
   "cell_type": "code",
   "execution_count": 13,
   "metadata": {
    "collapsed": false,
    "scrolled": false
   },
   "outputs": [
    {
     "data": {
      "image/png": "[encoded data removed]",
      "text/plain": [
       "<matplotlib.figure.Figure at 0x111eecac8>"
      ]
     },
     "metadata": {},
     "output_type": "display_data"
    },
    {
     "name": "stdout",
     "output_type": "stream",
     "text": [
      "Solution found:\n",
      "{queen_0: 0, queen_1: 2, queen_2: 5, queen_3: 7, queen_4: 1, queen_5: 3, queen_6: 8, queen_7: 6, queen_8: 4}\n"
     ]
    }
   ],
   "source": [
    "num_queens = 9\n",
    "csp = NQueensCSP(num_queens)\n",
    "assignment = backtracking_search(csp)\n",
    "\n",
    "if assignment is not None:\n",
    "    csp.show(assignment)\n",
    "    print(\"Solution found:\\n{!s}\".format(assignment))\n",
    "else:\n",
    "    print(\"No solution found.\")"
   ]
  }
 ],
 "metadata": {
  "anaconda-cloud": {},
  "kernelspec": {
   "display_name": "Python 3",
   "language": "python",
   "name": "python3"
  },
  "language_info": {
   "codemirror_mode": {
    "name": "ipython",
    "version": 3
   },
   "file_extension": ".py",
   "mimetype": "text/x-python",
   "name": "python",
   "nbconvert_exporter": "python",
   "pygments_lexer": "ipython3",
   "version": "3.6.0"
  }
 },
 "nbformat": 4,
 "nbformat_minor": 1
}
